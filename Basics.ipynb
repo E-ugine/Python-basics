{
 "cells": [
  {
   "cell_type": "code",
   "execution_count": 4,
   "id": "0146dbe0",
   "metadata": {},
   "outputs": [
    {
     "name": "stdout",
     "output_type": "stream",
     "text": [
      "Hello World!\n"
     ]
    }
   ],
   "source": [
    "print(\"Hello World!\")"
   ]
  },
  {
   "cell_type": "markdown",
   "id": "055095c6",
   "metadata": {},
   "source": [
    "#VARIABLES"
   ]
  },
  {
   "cell_type": "code",
   "execution_count": 5,
   "id": "9993a6d8",
   "metadata": {},
   "outputs": [
    {
     "name": "stdout",
     "output_type": "stream",
     "text": [
      "22\n"
     ]
    }
   ],
   "source": [
    "x=22\n",
    "print(x)"
   ]
  },
  {
   "cell_type": "code",
   "execution_count": 4,
   "id": "323bec9f",
   "metadata": {},
   "outputs": [
    {
     "data": {
      "text/plain": [
       "int"
      ]
     },
     "execution_count": 4,
     "metadata": {},
     "output_type": "execute_result"
    }
   ],
   "source": [
    "type(x)"
   ]
  },
  {
   "cell_type": "code",
   "execution_count": 5,
   "id": "2fb15840",
   "metadata": {},
   "outputs": [
    {
     "name": "stdout",
     "output_type": "stream",
     "text": [
      "chocolate\n",
      "vanila\n",
      "rocky road\n"
     ]
    }
   ],
   "source": [
    "x,y,z=('chocolate','vanila','rocky road')\n",
    "print(x)\n",
    "print(y)\n",
    "print(z)"
   ]
  },
  {
   "cell_type": "code",
   "execution_count": 6,
   "id": "5f7bbc34",
   "metadata": {},
   "outputs": [
    {
     "name": "stdout",
     "output_type": "stream",
     "text": [
      "Root Beer Float\n",
      "Root Beer Float\n",
      "Root Beer Float\n"
     ]
    }
   ],
   "source": [
    "x=y=z='Root Beer Float'\n",
    "print(x)\n",
    "print(y)\n",
    "print(z)\n"
   ]
  },
  {
   "cell_type": "code",
   "execution_count": 7,
   "id": "503d4a04",
   "metadata": {},
   "outputs": [
    {
     "name": "stdout",
     "output_type": "stream",
     "text": [
      "chocolate\n",
      "vanila\n",
      "rocky road\n"
     ]
    }
   ],
   "source": [
    "ice_cream=['chocolate','vanila','rocky road']\n",
    "x,y,z=ice_cream\n",
    "print(x)\n",
    "print(y)\n",
    "print(z)\n",
    "\n"
   ]
  },
  {
   "cell_type": "markdown",
   "id": "416fb3b8",
   "metadata": {},
   "source": [
    "#DATA TYPES"
   ]
  },
  {
   "cell_type": "code",
   "execution_count": 9,
   "id": "04c60a6d",
   "metadata": {},
   "outputs": [
    {
     "name": "stdout",
     "output_type": "stream",
     "text": [
      "o wo\n"
     ]
    },
    {
     "data": {
      "text/plain": [
       "' Hello world Hello world Hello world'"
      ]
     },
     "execution_count": 9,
     "metadata": {},
     "output_type": "execute_result"
    }
   ],
   "source": [
    "#strings\n",
    "a=' Hello world'\n",
    "print(a[5:9])\n",
    "a*3"
   ]
  },
  {
   "cell_type": "code",
   "execution_count": 18,
   "id": "68e878cd",
   "metadata": {},
   "outputs": [
    {
     "data": {
      "text/plain": [
       "[1, 2, 3]"
      ]
     },
     "execution_count": 18,
     "metadata": {},
     "output_type": "execute_result"
    }
   ],
   "source": [
    "#list\n",
    "[1,2,3]"
   ]
  },
  {
   "cell_type": "code",
   "execution_count": 24,
   "id": "13c8bf33",
   "metadata": {},
   "outputs": [
    {
     "name": "stdout",
     "output_type": "stream",
     "text": [
      "Realy\n"
     ]
    }
   ],
   "source": [
    "#0perators\n",
    "if 25 < 10:\n",
    "     print('Great')\n",
    "else:\n",
    "    print('Realy')"
   ]
  },
  {
   "cell_type": "code",
   "execution_count": 27,
   "id": "11bbf7d7",
   "metadata": {},
   "outputs": [
    {
     "name": "stdout",
     "output_type": "stream",
     "text": [
      "Great\n"
     ]
    }
   ],
   "source": [
    "if 25 > 10:\n",
    "     print('Great')\n",
    "elif 25 > 26:\n",
    "     print('Realy')\n",
    "else:\n",
    "      print('Realy')\n",
    "    "
   ]
  },
  {
   "cell_type": "markdown",
   "id": "a4a6e008",
   "metadata": {},
   "source": [
    "#LOOPS"
   ]
  },
  {
   "cell_type": "code",
   "execution_count": null,
   "id": "53dcbbd8",
   "metadata": {},
   "outputs": [],
   "source": [
    "integers=[1,2,3,4,5]"
   ]
  },
  {
   "cell_type": "code",
   "execution_count": 1,
   "id": "70685914",
   "metadata": {},
   "outputs": [
    {
     "name": "stdout",
     "output_type": "stream",
     "text": [
      "vanilla topped with Hot Fudge\n",
      "vanilla topped with Oreos\n",
      "vanilla topped with Marshmallows\n",
      "chocolate topped with Hot Fudge\n",
      "chocolate topped with Oreos\n",
      "chocolate topped with Marshmallows\n",
      "cookie dough topped with Hot Fudge\n",
      "cookie dough topped with Oreos\n",
      "cookie dough topped with Marshmallows\n"
     ]
    }
   ],
   "source": [
    "flavors=['vanilla','chocolate','cookie dough']\n",
    "toppings=['Hot Fudge','Oreos','Marshmallows']\n",
    "for one in flavors:\n",
    "    for two in toppings:\n",
    "        print(one,'topped with',two)"
   ]
  },
  {
   "cell_type": "code",
   "execution_count": 2,
   "id": "f1cfa62f",
   "metadata": {},
   "outputs": [
    {
     "name": "stdout",
     "output_type": "stream",
     "text": [
      "4\n",
      "5\n",
      "6\n",
      "7\n"
     ]
    }
   ],
   "source": [
    "number= 4\n",
    "while number < 8:\n",
    "    print(number)\n",
    "    number =number+1"
   ]
  },
  {
   "cell_type": "code",
   "execution_count": null,
   "id": "e42056f4",
   "metadata": {},
   "outputs": [],
   "source": [
    "weight= input(\" Enter your weight in pounds: \")"
   ]
  },
  {
   "cell_type": "code",
   "execution_count": null,
   "id": "109425bd",
   "metadata": {},
   "outputs": [],
   "source": []
  },
  {
   "cell_type": "code",
   "execution_count": null,
   "id": "ee0231f8",
   "metadata": {},
   "outputs": [],
   "source": []
  }
 ],
 "metadata": {
  "kernelspec": {
   "display_name": "Python 3 (ipykernel)",
   "language": "python",
   "name": "python3"
  },
  "language_info": {
   "codemirror_mode": {
    "name": "ipython",
    "version": 3
   },
   "file_extension": ".py",
   "mimetype": "text/x-python",
   "name": "python",
   "nbconvert_exporter": "python",
   "pygments_lexer": "ipython3",
   "version": "3.11.5"
  }
 },
 "nbformat": 4,
 "nbformat_minor": 5
}
